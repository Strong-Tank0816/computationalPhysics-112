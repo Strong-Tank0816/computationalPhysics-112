{
 "cells": [
  {
   "cell_type": "markdown",
   "metadata": {},
   "source": [
    "# Finite Difference method for solving discrete Laplace Equation\n",
    "\n",
    "### Exercise 1: solve the 4x4 linear equation A.x = b"
   ]
  },
  {
   "cell_type": "markdown",
   "metadata": {},
   "source": [
    "`4*u[i,j] - u[i-1,j] - u[i+1,j] - u[i,j-1] - u[i,j+1] = 0`\n",
    "\n",
    "Dervie and solve the linear system A.x =b"
   ]
  },
  {
   "cell_type": "markdown",
   "metadata": {},
   "source": [
    "REF: https://docs.scipy.org/doc/scipy/reference/generated/scipy.linalg.solve.html#scipy.linalg.solve"
   ]
  },
  {
   "cell_type": "code",
   "execution_count": 1,
   "metadata": {},
   "outputs": [],
   "source": [
    "import numpy as np\n",
    "from scipy import linalg"
   ]
  },
  {
   "cell_type": "code",
   "execution_count": 2,
   "metadata": {},
   "outputs": [
    {
     "name": "stdout",
     "output_type": "stream",
     "text": [
      "[[ 4 -1 -1  0]\n",
      " [-1  4  0 -1]\n",
      " [-1  0  4 -1]\n",
      " [ 0 -1 -1  4]]\n",
      "[0 0 1 1]\n",
      "[0.125 0.125 0.375 0.375]\n",
      "True\n",
      "[0. 0. 1. 1.] [0 0 1 1]\n",
      "[0.125 0.125 0.375 0.375] [0.125 0.125 0.375 0.375]\n"
     ]
    }
   ],
   "source": [
    "#TODO\n",
    "A = np.array([[4,-1,-1,0],[-1,4,0,-1],[-1,0,4,-1],[0,-1,-1,4]])\n",
    "print(A)\n",
    "b = np.array([0,0,1,1])\n",
    "print(b)\n",
    "\n",
    "# Solve the system of equations\n",
    "x = linalg.solve(A,b)\n",
    "print(x)\n",
    "\n",
    "# Check the solution\n",
    "print(np.allclose(np.dot(A,x),b))\n",
    "print(np.dot(A,x),b)\n",
    "print(np.dot(linalg.inv(A),b), x)\n",
    "\n",
    "\n",
    "\n",
    "\n",
    "\n"
   ]
  },
  {
   "cell_type": "markdown",
   "metadata": {},
   "source": [
    "### Exercise 2: arbitrary size of the matrix."
   ]
  },
  {
   "cell_type": "markdown",
   "metadata": {},
   "source": [
    "If we want our solve could sovle an arbitrary size of the system NxN in 2D.\\\n",
    "First, we need to generate the left-hand matrix. \\\n",
    "The left-hand matrix contains two components: One is an diagnoal matrix with only three banded values.\\\n",
    "The other component conatins negative identity matrice.\\\n",
    "\n",
    "we could use the `dia_matrix` in `scipy.sparse` and `np.identity()` for these components.\n",
    "\n",
    "REF: https://docs.scipy.org/doc/scipy/reference/sparse.html"
   ]
  },
  {
   "cell_type": "code",
   "execution_count": 3,
   "metadata": {},
   "outputs": [],
   "source": [
    "import numpy as np\n",
    "from scipy.sparse import dia_array  # if dia_array is not able, use dia_matrix\n",
    "from scipy.sparse import dia_matrix\n",
    "from numba import jit, njit, prange"
   ]
  },
  {
   "cell_type": "markdown",
   "metadata": {},
   "source": [
    "Part 1: \n",
    "\n",
    "Write a function to generate the matrxi A with arbitrary size N.\\\n",
    "The shpae of the matrix A is (N^2, N^2).\n",
    "\n",
    "Hints: depedning on your implmentation, you might want to use `numba` to speed it up."
   ]
  },
  {
   "cell_type": "markdown",
   "metadata": {},
   "source": [
    "We could decompose the matrix into several (N,N) submatrix and initialize the diagonal matrixs and the offset terms seperately."
   ]
  },
  {
   "cell_type": "code",
   "execution_count": 4,
   "metadata": {},
   "outputs": [],
   "source": [
    "@njit(parallel=True)\n",
    "def loop_kernel(N,A,d,o,z):\n",
    "    for i in prange(N):\n",
    "        for j in prange(N):\n",
    "\n",
    "            if (i==j):\n",
    "                submatrix = d\n",
    "            elif (abs(i-j)==1):\n",
    "                submatrix = o\n",
    "            else:\n",
    "                submatrix = z\n",
    "\n",
    "            for ii in range(N):\n",
    "                for jj in range(N):\n",
    "                    A[i*N+ii,j*N+jj] = submatrix[ii,jj]\n",
    "    return A\n",
    "def generate_the_laplace_matrix_with_size(N=4):\n",
    "    \"\"\"\n",
    "    assume sqrt(N) is an integer.\n",
    "\n",
    "    \"\"\"\n",
    "    nsq = N*N\n",
    "    A   = np.zeros((nsq,nsq))\n",
    "    \n",
    "    def init_1_4_matrix(n):\n",
    "        ex = np.ones(n)\n",
    "        data = np.array([-ex, 4 * ex, -ex])\n",
    "        offsets = np.array([-1, 0, 1])\n",
    "        return dia_matrix((data, offsets), shape=(n, n)).toarray()\n",
    "\n",
    "    def init_one_matrix(n):\n",
    "        return -np.identity(n)\n",
    "\n",
    "    def init_zero_matrix(n):\n",
    "        return np.zeros((n,n))\n",
    "\n",
    "   \n",
    "    d_matrix = init_1_4_matrix(N)\n",
    "    o_matrix = init_one_matrix(N)\n",
    "    z_matrix = init_zero_matrix(N)\n",
    "\n",
    "    # TODO\n",
    "    \"\"\"\n",
    "    for i in range(N):\n",
    "        for j in range(N):\n",
    "\n",
    "            if (i==j):\n",
    "                submatrix = init_1_4_matrix(N)\n",
    "            elif (abs(i-j)==1):\n",
    "                submatrix = init_one_matrix(N)\n",
    "            else:\n",
    "                submatrix = init_zero_matrix(N)\n",
    "\n",
    "            #for ii in range(N):\n",
    "            #    for jj in range(N):\n",
    "            #        A[i*N+ii,j*N+jj] = submatrix[ii,jj]\n",
    "            A = loop_kernel(N,A,submatrix)\n",
    "    \"\"\"\n",
    "    A = loop_kernel(N,A,d_matrix,o_matrix,z_matrix)\n",
    "    return A"
   ]
  },
  {
   "cell_type": "code",
   "execution_count": null,
   "metadata": {},
   "outputs": [],
   "source": []
  },
  {
   "cell_type": "code",
   "execution_count": 5,
   "metadata": {},
   "outputs": [
    {
     "name": "stdout",
     "output_type": "stream",
     "text": [
      "[[ 4. -1.  0. -1. -0. -0.  0.  0.  0.]\n",
      " [-1.  4. -1. -0. -1. -0.  0.  0.  0.]\n",
      " [ 0. -1.  4. -0. -0. -1.  0.  0.  0.]\n",
      " [-1. -0. -0.  4. -1.  0. -1. -0. -0.]\n",
      " [-0. -1. -0. -1.  4. -1. -0. -1. -0.]\n",
      " [-0. -0. -1.  0. -1.  4. -0. -0. -1.]\n",
      " [ 0.  0.  0. -1. -0. -0.  4. -1.  0.]\n",
      " [ 0.  0.  0. -0. -1. -0. -1.  4. -1.]\n",
      " [ 0.  0.  0. -0. -0. -1.  0. -1.  4.]]\n"
     ]
    }
   ],
   "source": [
    "N = 3\n",
    "A = generate_the_laplace_matrix_with_size(N)\n",
    "print(A)"
   ]
  },
  {
   "cell_type": "markdown",
   "metadata": {},
   "source": [
    "Part2:\n",
    "\n",
    "The right hand side of the lienar equation is a vecotr.\\\n",
    "generate a vecotr is simple with `np.array()`"
   ]
  },
  {
   "cell_type": "code",
   "execution_count": 6,
   "metadata": {},
   "outputs": [],
   "source": [
    "def generate_the_rhs_vector_with_size(N=4):\n",
    "    b = np.zeros(N*N)\n",
    "    b[-N:] = 1 \n",
    "    return b"
   ]
  },
  {
   "cell_type": "code",
   "execution_count": 7,
   "metadata": {},
   "outputs": [
    {
     "name": "stdout",
     "output_type": "stream",
     "text": [
      "[0. 0. 0. 0. 0. 0. 1. 1. 1.]\n"
     ]
    }
   ],
   "source": [
    "b = generate_the_rhs_vector_with_size(N=N)\n",
    "print(b)"
   ]
  },
  {
   "cell_type": "markdown",
   "metadata": {},
   "source": [
    "Part 3:\n",
    "\n",
    "Once we have the linear problem `A x = b`, we could solve the system with `scipy.linalg.solve` \n",
    "\n",
    "REF: https://docs.scipy.org/doc/scipy/reference/generated/scipy.linalg.solve.html#scipy.linalg.solve"
   ]
  },
  {
   "cell_type": "code",
   "execution_count": 8,
   "metadata": {},
   "outputs": [],
   "source": [
    "from scipy import linalg"
   ]
  },
  {
   "cell_type": "code",
   "execution_count": 9,
   "metadata": {},
   "outputs": [
    {
     "name": "stdout",
     "output_type": "stream",
     "text": [
      "[0.07142857 0.09821429 0.07142857 0.1875     0.25       0.1875\n",
      " 0.42857143 0.52678571 0.42857143]\n"
     ]
    }
   ],
   "source": [
    "x = linalg.solve(A, b)\n",
    "print(x)"
   ]
  },
  {
   "cell_type": "markdown",
   "metadata": {},
   "source": [
    "Part 4:\n",
    "\n",
    "Once we have the solution, we should convert the solution vector to the finite difference grids `u[i,j]`."
   ]
  },
  {
   "cell_type": "code",
   "execution_count": 10,
   "metadata": {},
   "outputs": [],
   "source": [
    "def convert_solution(x):\n",
    "    usize = np.sqrt(len(x))\n",
    "    u = x.reshape(int(usize),int(usize)).transpose()\n",
    "    return u"
   ]
  },
  {
   "cell_type": "markdown",
   "metadata": {},
   "source": [
    "Part 5:\n",
    "\n",
    "Now, let's visualize the solution with `matplotlib`"
   ]
  },
  {
   "cell_type": "code",
   "execution_count": 11,
   "metadata": {},
   "outputs": [],
   "source": [
    "import matplotlib.pyplot as plt"
   ]
  },
  {
   "cell_type": "code",
   "execution_count": 12,
   "metadata": {},
   "outputs": [
    {
     "data": {
      "text/plain": [
       "<matplotlib.image.AxesImage at 0x235ca95a390>"
      ]
     },
     "execution_count": 12,
     "metadata": {},
     "output_type": "execute_result"
    },
    {
     "data": {
      "image/png": "[encoded data removed]",
      "text/plain": [
       "<Figure size 640x480 with 1 Axes>"
      ]
     },
     "metadata": {},
     "output_type": "display_data"
    }
   ],
   "source": [
    "u = convert_solution(x)\n",
    "plt.imshow(u.T,origin=\"lower\")"
   ]
  },
  {
   "cell_type": "markdown",
   "metadata": {},
   "source": [
    "Part 6:\n",
    "\n",
    "Now we have tested our code, we could write a \"solver\" function to wrap all necessary codes.\\\n",
    "This solver function could be either in the notebook or in a seperate python file."
   ]
  },
  {
   "cell_type": "code",
   "execution_count": 13,
   "metadata": {},
   "outputs": [],
   "source": [
    "def solve_laplace(N=16):\n",
    "    A = generate_the_laplace_matrix_with_size(N=N)\n",
    "    b = generate_the_rhs_vector_with_size(N=N)\n",
    "    x = linalg.solve(A,b)\n",
    "    u = convert_solution(x)\n",
    "    return u"
   ]
  },
  {
   "cell_type": "code",
   "execution_count": 14,
   "metadata": {},
   "outputs": [
    {
     "ename": "KeyboardInterrupt",
     "evalue": "",
     "output_type": "error",
     "traceback": [
      "\u001b[1;31m---------------------------------------------------------------------------\u001b[0m",
      "\u001b[1;31mKeyboardInterrupt\u001b[0m                         Traceback (most recent call last)",
      "Cell \u001b[1;32mIn[14], line 1\u001b[0m\n\u001b[1;32m----> 1\u001b[0m u \u001b[38;5;241m=\u001b[39m \u001b[43msolve_laplace\u001b[49m\u001b[43m(\u001b[49m\u001b[43mN\u001b[49m\u001b[38;5;241;43m=\u001b[39;49m\u001b[38;5;241;43m128\u001b[39;49m\u001b[43m)\u001b[49m\n",
      "Cell \u001b[1;32mIn[13], line 4\u001b[0m, in \u001b[0;36msolve_laplace\u001b[1;34m(N)\u001b[0m\n\u001b[0;32m      2\u001b[0m A \u001b[38;5;241m=\u001b[39m generate_the_laplace_matrix_with_size(N\u001b[38;5;241m=\u001b[39mN)\n\u001b[0;32m      3\u001b[0m b \u001b[38;5;241m=\u001b[39m generate_the_rhs_vector_with_size(N\u001b[38;5;241m=\u001b[39mN)\n\u001b[1;32m----> 4\u001b[0m x \u001b[38;5;241m=\u001b[39m \u001b[43mlinalg\u001b[49m\u001b[38;5;241;43m.\u001b[39;49m\u001b[43msolve\u001b[49m\u001b[43m(\u001b[49m\u001b[43mA\u001b[49m\u001b[43m,\u001b[49m\u001b[43mb\u001b[49m\u001b[43m)\u001b[49m\n\u001b[0;32m      5\u001b[0m u \u001b[38;5;241m=\u001b[39m convert_solution(x)\n\u001b[0;32m      6\u001b[0m \u001b[38;5;28;01mreturn\u001b[39;00m u\n",
      "File \u001b[1;32mc:\\Users\\User\\anaconda3\\envs\\computationphysics2024\\Lib\\site-packages\\scipy\\linalg\\_basic.py:219\u001b[0m, in \u001b[0;36msolve\u001b[1;34m(a, b, lower, overwrite_a, overwrite_b, check_finite, assume_a, transposed)\u001b[0m\n\u001b[0;32m    216\u001b[0m \u001b[38;5;28;01mif\u001b[39;00m assume_a \u001b[38;5;241m==\u001b[39m \u001b[38;5;124m'\u001b[39m\u001b[38;5;124mgen\u001b[39m\u001b[38;5;124m'\u001b[39m:\n\u001b[0;32m    217\u001b[0m     gecon, getrf, getrs \u001b[38;5;241m=\u001b[39m get_lapack_funcs((\u001b[38;5;124m'\u001b[39m\u001b[38;5;124mgecon\u001b[39m\u001b[38;5;124m'\u001b[39m, \u001b[38;5;124m'\u001b[39m\u001b[38;5;124mgetrf\u001b[39m\u001b[38;5;124m'\u001b[39m, \u001b[38;5;124m'\u001b[39m\u001b[38;5;124mgetrs\u001b[39m\u001b[38;5;124m'\u001b[39m),\n\u001b[0;32m    218\u001b[0m                                            (a1, b1))\n\u001b[1;32m--> 219\u001b[0m     lu, ipvt, info \u001b[38;5;241m=\u001b[39m \u001b[43mgetrf\u001b[49m\u001b[43m(\u001b[49m\u001b[43ma1\u001b[49m\u001b[43m,\u001b[49m\u001b[43m \u001b[49m\u001b[43moverwrite_a\u001b[49m\u001b[38;5;241;43m=\u001b[39;49m\u001b[43moverwrite_a\u001b[49m\u001b[43m)\u001b[49m\n\u001b[0;32m    220\u001b[0m     _solve_check(n, info)\n\u001b[0;32m    221\u001b[0m     x, info \u001b[38;5;241m=\u001b[39m getrs(lu, ipvt, b1,\n\u001b[0;32m    222\u001b[0m                     trans\u001b[38;5;241m=\u001b[39mtrans, overwrite_b\u001b[38;5;241m=\u001b[39moverwrite_b)\n",
      "\u001b[1;31mKeyboardInterrupt\u001b[0m: "
     ]
    }
   ],
   "source": [
    "u = solve_laplace(N=128)"
   ]
  },
  {
   "cell_type": "code",
   "execution_count": null,
   "metadata": {},
   "outputs": [
    {
     "data": {
      "text/plain": [
       "<matplotlib.image.AxesImage at 0x1645851d0>"
      ]
     },
     "execution_count": 25,
     "metadata": {},
     "output_type": "execute_result"
    },
    {
     "data": {
      "image/png": "[encoded data removed]",
      "text/plain": [
       "<Figure size 640x480 with 1 Axes>"
      ]
     },
     "metadata": {},
     "output_type": "display_data"
    }
   ],
   "source": [
    "plt.imshow(u.T,origin=\"lower\")"
   ]
  },
  {
   "cell_type": "code",
   "execution_count": null,
   "metadata": {},
   "outputs": [],
   "source": [
    "field = np.gradient(u)"
   ]
  },
  {
   "cell_type": "code",
   "execution_count": null,
   "metadata": {},
   "outputs": [
    {
     "data": {
      "text/plain": [
       "<matplotlib.image.AxesImage at 0x16328b050>"
      ]
     },
     "execution_count": 27,
     "metadata": {},
     "output_type": "execute_result"
    },
    {
     "data": {
      "image/png": "[encoded data removed]",
      "text/plain": [
       "<Figure size 640x480 with 1 Axes>"
      ]
     },
     "metadata": {},
     "output_type": "display_data"
    }
   ],
   "source": [
    "plt.imshow(field[1].T,origin=\"lower\")"
   ]
  },
  {
   "cell_type": "markdown",
   "metadata": {},
   "source": [
    "Part 7:\n",
    "\n",
    "The buttole neck of this solver is in the `linalg.solve()`.\\\n",
    "Let's measure the performance of `linalg.solve()` with different resolutions."
   ]
  },
  {
   "cell_type": "code",
   "execution_count": null,
   "metadata": {},
   "outputs": [],
   "source": [
    "import time"
   ]
  },
  {
   "cell_type": "code",
   "execution_count": null,
   "metadata": {},
   "outputs": [
    {
     "name": "stdout",
     "output_type": "stream",
     "text": [
      "Measuring resolution N =  8\n",
      "Measuring resolution N =  16\n",
      "Measuring resolution N =  32\n",
      "Measuring resolution N =  64\n",
      "Measuring resolution N =  128\n"
     ]
    }
   ],
   "source": [
    "resolutions = np.array([8,16,32,64,128])\n",
    "times       = np.zeros(len(resolutions))\n",
    "\n",
    "for i, N in enumerate(resolutions):\n",
    "    print(\"Measuring resolution N = \", N)\n",
    "    A = generate_the_laplace_matrix_with_size(N)\n",
    "    b = generate_the_rhs_vector_with_size(N)\n",
    "    t1 = time.time()\n",
    "    x  = linalg.solve(A,b)\n",
    "    t2 = time.time()\n",
    "    times[i] = (t2-t1)"
   ]
  },
  {
   "cell_type": "code",
   "execution_count": null,
   "metadata": {},
   "outputs": [
    {
     "name": "stdout",
     "output_type": "stream",
     "text": [
      "[2.46763229e-04 1.00302696e-03 2.21250057e-02 9.33391809e-01\n",
      " 3.76255050e+01]\n"
     ]
    }
   ],
   "source": [
    "print(times)"
   ]
  },
  {
   "cell_type": "markdown",
   "metadata": {},
   "source": [
    "Part 8:\n",
    "\n",
    "Plot Computing time vs N in log-log scale."
   ]
  },
  {
   "cell_type": "code",
   "execution_count": null,
   "metadata": {},
   "outputs": [
    {
     "data": {
      "text/plain": [
       "<matplotlib.legend.Legend at 0x164c861d0>"
      ]
     },
     "execution_count": 34,
     "metadata": {},
     "output_type": "execute_result"
    },
    {
     "data": {
      "image/png": "[encoded data removed]",
      "text/plain": [
       "<Figure size 640x480 with 1 Axes>"
      ]
     },
     "metadata": {},
     "output_type": "display_data"
    }
   ],
   "source": [
    "times2 = [1e-3,1e-3,2.6e-2,8.4e-1,3.3e1]\n",
    "\n",
    "plt.figure(1)\n",
    "plt.plot(resolutions,times,'-o',label=\"Measured times\")\n",
    "plt.plot(resolutions,times2,'-o',label=\"Times 2\")\n",
    "plt.plot(resolutions,times[-1]*resolutions**5/resolutions[-1]**5,label=\"N^5 scaling\")\n",
    "plt.xscale('log')\n",
    "plt.yscale('log')\n",
    "plt.xlabel(\"Resolution (N)\")\n",
    "plt.ylabel(\"Times [sec]\")\n",
    "plt.legend()"
   ]
  },
  {
   "cell_type": "code",
   "execution_count": null,
   "metadata": {},
   "outputs": [],
   "source": []
  },
  {
   "cell_type": "markdown",
   "metadata": {},
   "source": [
    "You could see that the perofmance is propotional to `N^5`!\\\n",
    "This is becasue the size of the matrix A is proportional to `N^2` and\\\n",
    "the calculation time of `linalg.solve(M,b)` is proportial to the cubic of the size of M, N^3,\\\n",
    "giving `N^5` at the end."
   ]
  },
  {
   "cell_type": "markdown",
   "metadata": {},
   "source": [
    "The `scipy.linalg.solve` is robust, but since the matrix A is a sparse matrix, we could use special method to solve it.\n",
    "\n",
    "REF: https://docs.scipy.org/doc/scipy/reference/generated/scipy.sparse.linalg.spsolve.html"
   ]
  },
  {
   "cell_type": "code",
   "execution_count": null,
   "metadata": {},
   "outputs": [],
   "source": [
    "from scipy.sparse import csc_matrix\n",
    "import scipy.sparse.linalg as splinalg"
   ]
  },
  {
   "cell_type": "code",
   "execution_count": null,
   "metadata": {},
   "outputs": [],
   "source": [
    "N = 16\n",
    "A = generate_the_laplace_matrix_with_size(N)\n",
    "A = csc_matrix(A)\n",
    "b = generate_the_rhs_vector_with_size(N)\n",
    "x = splinalg.spsolve(A,b)"
   ]
  },
  {
   "cell_type": "markdown",
   "metadata": {},
   "source": [
    "Let's measure the performance again with `spsolve()`"
   ]
  },
  {
   "cell_type": "code",
   "execution_count": null,
   "metadata": {},
   "outputs": [
    {
     "name": "stdout",
     "output_type": "stream",
     "text": [
      "Measuring resolution N =  8\n",
      "Measuring resolution N =  16\n",
      "Measuring resolution N =  32\n",
      "Measuring resolution N =  64\n",
      "Measuring resolution N =  128\n",
      "Measuring resolution N =  256\n"
     ]
    }
   ],
   "source": [
    "resolutions = np.array([8,16,32,64,128,256])\n",
    "times_sp    = np.zeros(len(resolutions))\n",
    "\n",
    "for i, N in enumerate(resolutions):\n",
    "    print(\"Measuring resolution N = \", N)\n",
    "    A = generate_the_laplace_matrix_with_size(N)\n",
    "    A = csc_matrix(A)\n",
    "    b = generate_the_rhs_vector_with_size(N)\n",
    "    t1 = time.time()\n",
    "    x  = splinalg.spsolve(A,b)\n",
    "    t2 = time.time()\n",
    "    times_sp[i] = (t2-t1)"
   ]
  },
  {
   "cell_type": "code",
   "execution_count": null,
   "metadata": {},
   "outputs": [
    {
     "data": {
      "text/plain": [
       "Text(0, 0.5, 'Times [sec]')"
      ]
     },
     "execution_count": 38,
     "metadata": {},
     "output_type": "execute_result"
    },
    {
     "data": {
      "image/png": "[encoded data removed]",
      "text/plain": [
       "<Figure size 640x480 with 1 Axes>"
      ]
     },
     "metadata": {},
     "output_type": "display_data"
    }
   ],
   "source": [
    "resolutions1 = np.array([8,16,32,64,128])\n",
    "\n",
    "plt.figure(1)\n",
    "plt.plot(resolutions1[:-1],times[:-1],'b-o',label=\"Default solve()\")\n",
    "plt.plot(resolutions1,times[-1]*resolutions1**5/resolutions1[-1]**5,'b--')\n",
    "plt.plot(resolutions,times_sp,'r-o', label=\"spsolve()\")\n",
    "plt.plot(resolutions,times_sp[-1]*resolutions**2/resolutions[-1]**2,'r--')\n",
    "plt.xscale('log')\n",
    "plt.yscale('log')\n",
    "plt.legend(loc='upper left')\n",
    "plt.xlabel(\"Resolution (N)\")\n",
    "plt.ylabel(\"Times [sec]\")"
   ]
  },
  {
   "cell_type": "markdown",
   "metadata": {},
   "source": [
    "You got several oreders of speedup if you know the matrix is a sparse matrix."
   ]
  },
  {
   "cell_type": "code",
   "execution_count": null,
   "metadata": {},
   "outputs": [
    {
     "data": {
      "text/plain": [
       "34359738368"
      ]
     },
     "execution_count": 41,
     "metadata": {},
     "output_type": "execute_result"
    }
   ],
   "source": [
    "128**5"
   ]
  },
  {
   "cell_type": "code",
   "execution_count": null,
   "metadata": {},
   "outputs": [],
   "source": []
  }
 ],
 "metadata": {
  "kernelspec": {
   "display_name": "comphys-112",
   "language": "python",
   "name": "python3"
  },
  "language_info": {
   "codemirror_mode": {
    "name": "ipython",
    "version": 3
   },
   "file_extension": ".py",
   "mimetype": "text/x-python",
   "name": "python",
   "nbconvert_exporter": "python",
   "pygments_lexer": "ipython3",
   "version": "3.11.7"
  }
 },
 "nbformat": 4,
 "nbformat_minor": 2
}
